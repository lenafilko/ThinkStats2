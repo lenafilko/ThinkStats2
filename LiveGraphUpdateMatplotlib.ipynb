{
 "cells": [
  {
   "cell_type": "code",
   "execution_count": 1,
   "metadata": {},
   "outputs": [],
   "source": [
    "import matplotlib.pyplot as plt\n",
    "import matplotlib.animation as animation\n",
    "from matplotlib import style\n",
    "import time\n",
    "style.use(\"ggplot\")"
   ]
  },
  {
   "cell_type": "code",
   "execution_count": null,
   "metadata": {},
   "outputs": [],
   "source": [
    "fig = plt.figure()\n",
    "axl = fig.add_subplot(1,1,1)\n",
    "\n",
    "def animate(i):\n",
    "    pullData = open(\"twitter_out.txt\", \"r\").read()\n",
    "    dataArray = pullData.split('\\n')\n",
    "    \n",
    "    xar = []\n",
    "    yar = []\n",
    "    \n",
    "    x=0\n",
    "    y=0\n",
    "    for l in dataArray:\n",
    "        x+=1\n",
    "        if \"pos\" in l:\n",
    "            y+=1\n",
    "        elif \"neg\" in l:\n",
    "            y-=1  #the responces are biased towards neg, more word are used to describe negative feeling, so to correct for it 0.3 can be used instead of 1\n",
    "        \n",
    "        xar.append(x)\n",
    "        yar.append(y)\n",
    "        \n",
    "    axl.clear()\n",
    "    axl.plot(xar,yar)\n",
    "ani = animation.FuncAnimation(fig,animate, interval = 1000)\n",
    "plt.show()"
   ]
  }
 ],
 "metadata": {
  "kernelspec": {
   "display_name": "Python 3",
   "language": "python",
   "name": "python3"
  },
  "language_info": {
   "codemirror_mode": {
    "name": "ipython",
    "version": 3
   },
   "file_extension": ".py",
   "mimetype": "text/x-python",
   "name": "python",
   "nbconvert_exporter": "python",
   "pygments_lexer": "ipython3",
   "version": "3.6.5"
  }
 },
 "nbformat": 4,
 "nbformat_minor": 2
}
