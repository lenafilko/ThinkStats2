{
 "cells": [
  {
   "cell_type": "code",
   "execution_count": 4,
   "metadata": {
    "collapsed": false
   },
   "outputs": [
    {
     "ename": "SyntaxError",
     "evalue": "invalid syntax (<ipython-input-4-3a17c94dffe5>, line 1)",
     "output_type": "error",
     "traceback": [
      "\u001b[1;36m  File \u001b[1;32m\"<ipython-input-4-3a17c94dffe5>\"\u001b[1;36m, line \u001b[1;32m1\u001b[0m\n\u001b[1;33m    ~ pip install arch\u001b[0m\n\u001b[1;37m                ^\u001b[0m\n\u001b[1;31mSyntaxError\u001b[0m\u001b[1;31m:\u001b[0m invalid syntax\n"
     ]
    }
   ],
   "source": [
    "pip install arch\n",
    "pip install pandas_datareader\n",
    "\n",
    "import skilearn as sl\n",
    "import datetime as dt\n",
    "import sys\n",
    "import numpy as np\n",
    "import pandas as pd\n",
    "import matplotlib.pyplot as pp\n",
    "import seaborn\n",
    "\n",
    "from arch import arch_model\n",
    "import pandas_datareader.data as web\n",
    "\n",
    "\n",
    "%matplotlib inline"
   ]
  },
  {
   "cell_type": "code",
   "execution_count": null,
   "metadata": {
    "collapsed": false
   },
   "outputs": [],
   "source": [
    "filetoarray=np.fromfile('weather.dat', dtype=float)"
   ]
  },
  {
   "cell_type": "code",
   "execution_count": null,
   "metadata": {
    "collapsed": false
   },
   "outputs": [],
   "source": [
    "datacontent=[i.strip().split() for i in open('weather.dat').readlines()]\n",
    "datacontent[:10]"
   ]
  },
  {
   "cell_type": "code",
   "execution_count": null,
   "metadata": {
    "collapsed": false
   },
   "outputs": [],
   "source": [
    "import csv\n",
    "\n",
    "with open('./weather.csv', 'wt' ) as f:\n",
    "    writertf=csv.writer(f)\n",
    "    writertf.writerows(datacontent)\n",
    "\n",
    "#headername=['Day','MaxT','MinT','AvrT','HDDay','AvDP','1HrP',\n",
    "#            'TPcpn','WxType','PDir','AvSp','Dir','MxS','SkyC','MxR','MnR','AvSLP']\n",
    "\n",
    "newnamefile = pd.read_csv('./weather.csv')#, names=headername)\n",
    "newnamefile.head()\n",
    "\n"
   ]
  },
  {
   "cell_type": "code",
   "execution_count": 15,
   "metadata": {
    "collapsed": false
   },
   "outputs": [],
   "source": [
    "def tspread(fname):\n",
    "    #resultdiff=[]\n",
    "    #daym=[]\n",
    "    for line in fname:\n",
    "        fields=line.split(\";\")\n",
    "        field1 = fields[0]\n",
    "        field2 = fields[1]\n",
    "        field3 = fields[2]\n",
    "        #diff = field2-field3\n",
    "        #resultdiff.append(diff)\n",
    "        #daym.append(field1)\n",
    "    # maxspread=max(resultdiff)\n",
    "    # print(maxspread)\n",
    "    "
   ]
  },
  {
   "cell_type": "code",
   "execution_count": 16,
   "metadata": {
    "collapsed": false
   },
   "outputs": [
    {
     "ename": "IndexError",
     "evalue": "list index out of range",
     "output_type": "error",
     "traceback": [
      "\u001b[1;31m---------------------------------------------------------------------------\u001b[0m",
      "\u001b[1;31mIndexError\u001b[0m                                Traceback (most recent call last)",
      "\u001b[1;32m<ipython-input-16-e9b63b928981>\u001b[0m in \u001b[0;36m<module>\u001b[1;34m()\u001b[0m\n\u001b[1;32m----> 1\u001b[1;33m \u001b[0mtspread\u001b[0m\u001b[1;33m(\u001b[0m\u001b[0mnewnamefile\u001b[0m\u001b[1;33m)\u001b[0m\u001b[1;33m\u001b[0m\u001b[0m\n\u001b[0m",
      "\u001b[1;32m<ipython-input-15-1119ad58124c>\u001b[0m in \u001b[0;36mtspread\u001b[1;34m(fname)\u001b[0m\n\u001b[0;32m      5\u001b[0m         \u001b[0mfields\u001b[0m\u001b[1;33m=\u001b[0m\u001b[0mline\u001b[0m\u001b[1;33m.\u001b[0m\u001b[0msplit\u001b[0m\u001b[1;33m(\u001b[0m\u001b[1;34m\";\"\u001b[0m\u001b[1;33m)\u001b[0m\u001b[1;33m\u001b[0m\u001b[0m\n\u001b[0;32m      6\u001b[0m         \u001b[0mfield1\u001b[0m \u001b[1;33m=\u001b[0m \u001b[0mfields\u001b[0m\u001b[1;33m[\u001b[0m\u001b[1;36m0\u001b[0m\u001b[1;33m]\u001b[0m\u001b[1;33m\u001b[0m\u001b[0m\n\u001b[1;32m----> 7\u001b[1;33m         \u001b[0mfield2\u001b[0m \u001b[1;33m=\u001b[0m \u001b[0mfields\u001b[0m\u001b[1;33m[\u001b[0m\u001b[1;36m1\u001b[0m\u001b[1;33m]\u001b[0m\u001b[1;33m\u001b[0m\u001b[0m\n\u001b[0m\u001b[0;32m      8\u001b[0m         \u001b[0mfield3\u001b[0m \u001b[1;33m=\u001b[0m \u001b[0mfields\u001b[0m\u001b[1;33m[\u001b[0m\u001b[1;36m2\u001b[0m\u001b[1;33m]\u001b[0m\u001b[1;33m\u001b[0m\u001b[0m\n\u001b[0;32m      9\u001b[0m         \u001b[1;31m#diff = field2-field3\u001b[0m\u001b[1;33m\u001b[0m\u001b[1;33m\u001b[0m\u001b[0m\n",
      "\u001b[1;31mIndexError\u001b[0m: list index out of range"
     ]
    }
   ],
   "source": [
    "tspread(newnamefile)"
   ]
  },
  {
   "cell_type": "code",
   "execution_count": null,
   "metadata": {
    "collapsed": true
   },
   "outputs": [],
   "source": [
    "# Generate data\n",
    "from sklearn.datasets import make_blobs\n",
    "X, y = make_blobs(n_samples=1000, centers=20, random_state=123)\n",
    "labels = [\"b\", \"r\"]\n",
    "y = np.take(labels, (y < 10))\n",
    "print(X) \n",
    "print(y[:5])"
   ]
  },
  {
   "cell_type": "code",
   "execution_count": 2,
   "metadata": {
    "collapsed": false
   },
   "outputs": [
    {
     "ename": "SyntaxError",
     "evalue": "Missing parentheses in call to 'print' (<ipython-input-2-b98b901b6aaa>, line 2)",
     "output_type": "error",
     "traceback": [
      "\u001b[1;36m  File \u001b[1;32m\"<ipython-input-2-b98b901b6aaa>\"\u001b[1;36m, line \u001b[1;32m2\u001b[0m\n\u001b[1;33m    print 5\u001b[0m\n\u001b[1;37m          ^\u001b[0m\n\u001b[1;31mSyntaxError\u001b[0m\u001b[1;31m:\u001b[0m Missing parentheses in call to 'print'\n"
     ]
    }
   ],
   "source": [
    "# Generate data\n",
    "\n",
    "from sklearn.datasets import make_blobs\n",
    "X, y = make_blobs(n_samples=1000, centers=20, random_state=123)\n",
    "labels = [\"b\", \"r\"]\n",
    "y = np.take(labels, (y < 10))\n",
    "print(X) \n",
    "print(y[:5])"
   ]
  },
  {
   "cell_type": "code",
   "execution_count": 6,
   "metadata": {
    "collapsed": false
   },
   "outputs": [
    {
     "data": {
      "text/plain": [
       "(array([[  1.08977944e+01,   6.83070593e+00],\n",
       "        [  1.04882633e+01,   8.71446332e+00],\n",
       "        [  8.90077964e-01,   5.33964326e+00],\n",
       "        [  3.04139732e-01,   3.76289069e+00],\n",
       "        [  9.72622717e+00,   9.30186946e+00],\n",
       "        [  9.71644360e+00,   1.01403038e+01],\n",
       "        [  1.06332172e+01,   5.70908921e+00],\n",
       "        [  7.07683728e-01,   5.20813489e+00],\n",
       "        [  1.73569037e+00,   3.66126759e+00],\n",
       "        [  1.10669656e+01,   7.86680133e+00],\n",
       "        [ -5.52754719e+00,  -5.02064268e+00],\n",
       "        [ -3.43851353e+00,  -4.66513885e+00],\n",
       "        [ -7.01275688e+00,  -4.33632071e+00],\n",
       "        [ -6.43247146e+00,  -5.32710556e+00],\n",
       "        [ -4.53419236e+00,  -3.42394679e+00],\n",
       "        [  1.02327110e+01,   5.91093101e+00],\n",
       "        [ -4.59645762e+00,  -5.60052515e+00],\n",
       "        [  1.49740485e+00,   5.93891778e+00],\n",
       "        [  9.17653377e-01,   3.44103651e+00],\n",
       "        [  9.11839826e+00,   8.71137987e+00],\n",
       "        [  9.24958378e+00,   5.36603576e+00],\n",
       "        [  8.85561046e+00,   6.64142981e+00],\n",
       "        [ -4.23665609e+00,  -2.69961061e+00],\n",
       "        [ -3.72791534e+00,  -3.74556158e+00],\n",
       "        [ -5.30999520e+00,  -3.61986093e+00],\n",
       "        [  1.00779063e+01,   5.78155315e+00],\n",
       "        [  1.01196025e+01,   8.39838757e+00],\n",
       "        [  2.76051317e+00,   5.59852811e+00],\n",
       "        [  1.13017146e+01,   6.93626923e+00],\n",
       "        [ -3.77315128e+00,  -3.30436772e+00],\n",
       "        [  7.74247025e-01,   3.50347448e+00],\n",
       "        [  2.17766052e+00,   3.28447739e+00],\n",
       "        [ -3.23330408e+00,  -3.95020614e+00],\n",
       "        [  9.39733505e+00,   5.62700450e+00],\n",
       "        [ -3.21150040e+00,  -3.27508930e+00],\n",
       "        [  4.41794011e-02,   2.84409734e+00],\n",
       "        [ -4.84847052e+00,  -4.92906087e+00],\n",
       "        [  1.13044057e+00,   5.57421901e+00],\n",
       "        [ -4.82426895e+00,  -5.46842454e+00],\n",
       "        [  1.21096073e+01,   7.07029896e+00],\n",
       "        [  2.00896995e+00,   3.17678094e+00],\n",
       "        [  9.98157012e+00,   7.35976042e+00],\n",
       "        [ -5.21291103e+00,  -3.50258999e+00],\n",
       "        [  4.05183314e-01,   4.41274580e+00],\n",
       "        [  1.89108745e+00,   3.65038088e+00],\n",
       "        [  1.44855451e+00,   3.10696101e+00],\n",
       "        [ -6.37356707e+00,  -3.98573191e+00],\n",
       "        [ -4.39088193e+00,  -2.80442637e+00],\n",
       "        [ -2.88170079e+00,  -5.54009811e+00],\n",
       "        [  2.47317402e+00,   4.52844771e+00],\n",
       "        [  8.65534626e+00,   6.54433473e+00],\n",
       "        [ -2.13454150e+00,  -4.99272534e+00],\n",
       "        [  4.43165515e-01,   5.61581830e+00],\n",
       "        [  1.27289823e+00,   4.05511396e+00],\n",
       "        [  1.49035516e+00,   4.12942466e+00],\n",
       "        [  8.55522860e+00,   8.11654851e+00],\n",
       "        [  8.75097269e+00,   5.96551931e+00],\n",
       "        [  1.02580873e+01,   6.97161434e+00],\n",
       "        [  9.25991713e+00,   8.23283740e+00],\n",
       "        [  1.39065212e+00,   3.69110448e+00],\n",
       "        [  8.20051000e-01,   4.26762940e+00],\n",
       "        [  1.04905412e+01,   6.19714404e+00],\n",
       "        [  1.05799391e+01,   7.98581374e+00],\n",
       "        [  9.26798042e+00,   7.52434782e+00],\n",
       "        [  2.34833577e-01,   2.18713284e+00],\n",
       "        [  2.96293370e+00,   4.53847475e+00],\n",
       "        [ -3.38189000e+00,  -3.56206250e+00],\n",
       "        [ -5.61027076e+00,  -4.60812402e+00],\n",
       "        [  1.08743694e+01,   6.44008834e+00],\n",
       "        [  9.48300269e-01,   2.57195388e+00],\n",
       "        [  9.72785266e+00,   7.00889626e+00],\n",
       "        [  1.03741375e+01,   8.57906212e+00],\n",
       "        [  7.50218687e+00,   7.91723845e+00],\n",
       "        [ -5.08326818e+00,  -4.27483309e+00],\n",
       "        [ -5.74430183e+00,  -3.55822341e+00],\n",
       "        [  6.52189309e-01,   2.59701984e+00],\n",
       "        [  4.26655353e-01,   4.06647911e+00],\n",
       "        [  9.46083600e+00,   7.92159524e+00],\n",
       "        [  1.54710867e+00,   4.72417562e+00],\n",
       "        [ -3.41868315e+00,  -3.86905166e+00],\n",
       "        [ -3.78094969e+00,  -4.77237963e+00],\n",
       "        [  7.42965701e-01,   2.77341212e+00],\n",
       "        [ -2.78253593e+00,  -3.75434676e+00],\n",
       "        [ -2.76087013e+00,  -5.10198915e+00],\n",
       "        [  1.06802049e+00,   4.48277133e+00],\n",
       "        [  1.07843249e+01,   8.00557420e+00],\n",
       "        [  1.03535207e+01,   7.94530249e+00],\n",
       "        [  1.52203406e+00,   3.00505657e+00],\n",
       "        [ -1.07275788e-02,   4.95402299e+00],\n",
       "        [  9.68707447e+00,   8.05878873e+00],\n",
       "        [  1.27159841e+00,   4.41212847e+00],\n",
       "        [  1.13578633e+01,   7.61679033e+00],\n",
       "        [ -4.31803729e+00,  -2.35300391e+00],\n",
       "        [  1.10417603e+00,   3.20744125e+00],\n",
       "        [ -6.57163427e+00,  -3.65542541e+00],\n",
       "        [ -4.93014335e+00,  -2.82269618e+00],\n",
       "        [ -5.42057235e+00,  -4.07806493e+00],\n",
       "        [  1.02911422e+01,   7.11423664e+00],\n",
       "        [ -6.87480816e+00,  -3.06452149e+00],\n",
       "        [ -4.13263406e+00,  -4.04933402e+00]]),\n",
       " array([0, 0, 1, 1, 0, 0, 0, 1, 1, 0, 2, 2, 2, 2, 2, 0, 2, 1, 1, 0, 0, 0, 2,\n",
       "        2, 2, 0, 0, 1, 0, 2, 1, 1, 2, 0, 2, 1, 2, 1, 2, 0, 1, 0, 2, 1, 1, 1,\n",
       "        2, 2, 2, 1, 0, 2, 1, 1, 1, 0, 0, 0, 0, 1, 1, 0, 0, 0, 1, 1, 2, 2, 0,\n",
       "        1, 0, 0, 0, 2, 2, 1, 1, 0, 1, 2, 2, 1, 2, 2, 1, 0, 0, 1, 1, 0, 1, 0,\n",
       "        2, 1, 2, 2, 2, 0, 2, 2]))"
      ]
     },
     "execution_count": 6,
     "metadata": {},
     "output_type": "execute_result"
    }
   ],
   "source": [
    "from sklearn.datasets import make_blobs\n",
    "make_blobs()"
   ]
  },
  {
   "cell_type": "code",
   "execution_count": null,
   "metadata": {
    "collapsed": true
   },
   "outputs": [],
   "source": []
  }
 ],
 "metadata": {
  "kernelspec": {
   "display_name": "Python 3",
   "language": "python",
   "name": "python3"
  },
  "language_info": {
   "codemirror_mode": {
    "name": "ipython",
    "version": 3
   },
   "file_extension": ".py",
   "mimetype": "text/x-python",
   "name": "python",
   "nbconvert_exporter": "python",
   "pygments_lexer": "ipython3",
   "version": "3.4.4"
  }
 },
 "nbformat": 4,
 "nbformat_minor": 0
}
